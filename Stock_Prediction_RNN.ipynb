{
 "cells": [
  {
   "cell_type": "code",
   "execution_count": 1,
   "metadata": {
    "collapsed": true
   },
   "outputs": [],
   "source": [
    "#Import the data set\n",
    "import numpy as np\n",
    "import matplotlib.pyplot as plt\n",
    "import pandas as pd"
   ]
  },
  {
   "cell_type": "markdown",
   "metadata": {},
   "source": [
    "## Part 1 : Data Pre-processing"
   ]
  },
  {
   "cell_type": "code",
   "execution_count": 2,
   "metadata": {
    "collapsed": true
   },
   "outputs": [],
   "source": [
    "#Importing the training set\n",
    "training_set = pd.read_csv('Google_Stock_Price_Train.csv')"
   ]
  },
  {
   "cell_type": "code",
   "execution_count": 3,
   "metadata": {
    "collapsed": true
   },
   "outputs": [],
   "source": [
    "training_set = training_set.iloc[:,1:2].values"
   ]
  },
  {
   "cell_type": "code",
   "execution_count": 6,
   "metadata": {},
   "outputs": [],
   "source": [
    "#Feature Scaling using Normalization\n",
    "from sklearn.preprocessing import MinMaxScaler\n",
    "sc = MinMaxScaler()\n",
    "training_set = sc.fit_transform(training_set)"
   ]
  },
  {
   "cell_type": "code",
   "execution_count": 8,
   "metadata": {},
   "outputs": [],
   "source": [
    "#Getting the inputs and outputs\n",
    "#We excluded the last stock price because it doesnt have a (t+1)\n",
    "#t\n",
    "X_train = training_set[0:1257]\n",
    "#t+1\n",
    "y_train = training_set[1:1258]"
   ]
  },
  {
   "cell_type": "code",
   "execution_count": 11,
   "metadata": {},
   "outputs": [],
   "source": [
    "#Reshaping\n",
    "#The input format at keras has 3 dimensions, (batch_zize,timestep,input features used)\n",
    "#timestep = the steps ahead we want to predict, Right now we are just taking account the last input for the next one\n",
    "X_train = np.reshape(X_train,(1257,1,1))"
   ]
  },
  {
   "cell_type": "markdown",
   "metadata": {},
   "source": [
    "## Part 2 - Building the RNN"
   ]
  },
  {
   "cell_type": "code",
   "execution_count": 12,
   "metadata": {},
   "outputs": [
    {
     "name": "stderr",
     "output_type": "stream",
     "text": [
      "Using TensorFlow backend.\n"
     ]
    }
   ],
   "source": [
    "from keras.models import Sequential\n",
    "from keras.layers import Dense\n",
    "from keras.layers import LSTM"
   ]
  },
  {
   "cell_type": "code",
   "execution_count": 13,
   "metadata": {
    "collapsed": true
   },
   "outputs": [],
   "source": [
    "#Instantialting the RNN\n",
    "regressor = Sequential()"
   ]
  },
  {
   "cell_type": "code",
   "execution_count": 14,
   "metadata": {
    "collapsed": true
   },
   "outputs": [],
   "source": [
    "#Adding the input layer and the LSTM layer\n",
    "#units = no of memory units\n",
    "#input_shape = (no of timestep,no of features)\n",
    "regressor.add(LSTM(units=4, activation = 'sigmoid', input_shape = (None,1)))"
   ]
  },
  {
   "cell_type": "code",
   "execution_count": 15,
   "metadata": {
    "collapsed": true
   },
   "outputs": [],
   "source": [
    "#Adding the output layer\n",
    "#units = no of neurons at the output layer\n",
    "regressor.add(Dense(units=1))"
   ]
  },
  {
   "cell_type": "code",
   "execution_count": 16,
   "metadata": {
    "collapsed": true
   },
   "outputs": [],
   "source": [
    "#Compiling the RNN\n",
    "regressor.compile(optimizer='adam', loss='mean_squared_error')"
   ]
  },
  {
   "cell_type": "code",
   "execution_count": 19,
   "metadata": {},
   "outputs": [
    {
     "name": "stdout",
     "output_type": "stream",
     "text": [
      "Epoch 1/200\n",
      "1257/1257 [==============================] - 0s - loss: 5.5029e-04     \n",
      "Epoch 2/200\n",
      "1257/1257 [==============================] - 0s - loss: 4.9758e-04     \n",
      "Epoch 3/200\n",
      "1257/1257 [==============================] - 0s - loss: 4.5326e-04     \n",
      "Epoch 4/200\n",
      "1257/1257 [==============================] - 0s - loss: 4.1662e-04     \n",
      "Epoch 5/200\n",
      "1257/1257 [==============================] - 0s - loss: 3.8688e-04     \n",
      "Epoch 6/200\n",
      "1257/1257 [==============================] - 0s - loss: 3.6210e-04     \n",
      "Epoch 7/200\n",
      "1257/1257 [==============================] - 0s - loss: 3.4202e-04     \n",
      "Epoch 8/200\n",
      "1257/1257 [==============================] - 0s - loss: 3.2640e-04     \n",
      "Epoch 9/200\n",
      "1257/1257 [==============================] - 0s - loss: 3.1389e-04     \n",
      "Epoch 10/200\n",
      "1257/1257 [==============================] - 0s - loss: 3.0346e-04     \n",
      "Epoch 11/200\n",
      "1257/1257 [==============================] - 0s - loss: 2.9549e-04     \n",
      "Epoch 12/200\n",
      "1257/1257 [==============================] - 0s - loss: 2.8887e-04     \n",
      "Epoch 13/200\n",
      "1257/1257 [==============================] - 0s - loss: 2.8368e-04     \n",
      "Epoch 14/200\n",
      "1257/1257 [==============================] - 0s - loss: 2.8045e-04     \n",
      "Epoch 15/200\n",
      "1257/1257 [==============================] - 0s - loss: 2.7689e-04     \n",
      "Epoch 16/200\n",
      "1257/1257 [==============================] - 0s - loss: 2.7398e-04     \n",
      "Epoch 17/200\n",
      "1257/1257 [==============================] - 0s - loss: 2.7200e-04     \n",
      "Epoch 18/200\n",
      "1257/1257 [==============================] - 0s - loss: 2.7019e-04     \n",
      "Epoch 19/200\n",
      "1257/1257 [==============================] - 0s - loss: 2.6909e-04     \n",
      "Epoch 20/200\n",
      "1257/1257 [==============================] - 0s - loss: 2.6803e-04     \n",
      "Epoch 21/200\n",
      "1257/1257 [==============================] - 0s - loss: 2.6646e-04     \n",
      "Epoch 22/200\n",
      "1257/1257 [==============================] - 0s - loss: 2.6531e-04     \n",
      "Epoch 23/200\n",
      "1257/1257 [==============================] - 0s - loss: 2.6456e-04     \n",
      "Epoch 24/200\n",
      "1257/1257 [==============================] - 0s - loss: 2.6352e-04     \n",
      "Epoch 25/200\n",
      "1257/1257 [==============================] - 0s - loss: 2.6300e-04     \n",
      "Epoch 26/200\n",
      "1257/1257 [==============================] - 0s - loss: 2.6264e-04     \n",
      "Epoch 27/200\n",
      "1257/1257 [==============================] - 0s - loss: 2.6205e-04     \n",
      "Epoch 28/200\n",
      "1257/1257 [==============================] - 0s - loss: 2.6140e-04     \n",
      "Epoch 29/200\n",
      "1257/1257 [==============================] - 0s - loss: 2.6056e-04     \n",
      "Epoch 30/200\n",
      "1257/1257 [==============================] - 0s - loss: 2.6127e-04     \n",
      "Epoch 31/200\n",
      "1257/1257 [==============================] - 0s - loss: 2.6012e-04     \n",
      "Epoch 32/200\n",
      "1257/1257 [==============================] - 0s - loss: 2.5984e-04     \n",
      "Epoch 33/200\n",
      "1257/1257 [==============================] - 0s - loss: 2.5918e-04     \n",
      "Epoch 34/200\n",
      "1257/1257 [==============================] - 0s - loss: 2.5860e-04     \n",
      "Epoch 35/200\n",
      "1257/1257 [==============================] - 0s - loss: 2.5870e-04     \n",
      "Epoch 36/200\n",
      "1257/1257 [==============================] - 0s - loss: 2.5815e-04     \n",
      "Epoch 37/200\n",
      "1257/1257 [==============================] - 0s - loss: 2.5765e-04     \n",
      "Epoch 38/200\n",
      "1257/1257 [==============================] - 0s - loss: 2.5775e-04     \n",
      "Epoch 39/200\n",
      "1257/1257 [==============================] - 0s - loss: 2.5775e-04     \n",
      "Epoch 40/200\n",
      "1257/1257 [==============================] - 0s - loss: 2.5765e-04     \n",
      "Epoch 41/200\n",
      "1257/1257 [==============================] - 0s - loss: 2.5704e-04     \n",
      "Epoch 42/200\n",
      "1257/1257 [==============================] - 0s - loss: 2.5710e-04     \n",
      "Epoch 43/200\n",
      "1257/1257 [==============================] - 0s - loss: 2.5631e-04     \n",
      "Epoch 44/200\n",
      "1257/1257 [==============================] - 0s - loss: 2.5649e-04     \n",
      "Epoch 45/200\n",
      "1257/1257 [==============================] - 0s - loss: 2.5634e-04     \n",
      "Epoch 46/200\n",
      "1257/1257 [==============================] - 0s - loss: 2.5590e-04     \n",
      "Epoch 47/200\n",
      "1257/1257 [==============================] - 0s - loss: 2.5655e-04     \n",
      "Epoch 48/200\n",
      "1257/1257 [==============================] - 0s - loss: 2.5572e-04     \n",
      "Epoch 49/200\n",
      "1257/1257 [==============================] - 0s - loss: 2.5620e-04     \n",
      "Epoch 50/200\n",
      "1257/1257 [==============================] - 0s - loss: 2.5547e-04     \n",
      "Epoch 51/200\n",
      "1257/1257 [==============================] - 0s - loss: 2.5489e-04     \n",
      "Epoch 52/200\n",
      "1257/1257 [==============================] - 0s - loss: 2.5501e-04     \n",
      "Epoch 53/200\n",
      "1257/1257 [==============================] - 0s - loss: 2.5545e-04     \n",
      "Epoch 54/200\n",
      "1257/1257 [==============================] - 0s - loss: 2.5491e-04     \n",
      "Epoch 55/200\n",
      "1257/1257 [==============================] - 0s - loss: 2.5377e-04     \n",
      "Epoch 56/200\n",
      "1257/1257 [==============================] - ETA: 0s - loss: 2.5729e-0 - 0s - loss: 2.5435e-04     \n",
      "Epoch 57/200\n",
      "1257/1257 [==============================] - 0s - loss: 2.5390e-04     \n",
      "Epoch 58/200\n",
      "1257/1257 [==============================] - 0s - loss: 2.5402e-04     \n",
      "Epoch 59/200\n",
      "1257/1257 [==============================] - 0s - loss: 2.5345e-04     \n",
      "Epoch 60/200\n",
      "1257/1257 [==============================] - 0s - loss: 2.5385e-04     \n",
      "Epoch 61/200\n",
      "1257/1257 [==============================] - 0s - loss: 2.5327e-04     \n",
      "Epoch 62/200\n",
      "1257/1257 [==============================] - 0s - loss: 2.5256e-04     \n",
      "Epoch 63/200\n",
      "1257/1257 [==============================] - 0s - loss: 2.5384e-04     \n",
      "Epoch 64/200\n",
      "1257/1257 [==============================] - 0s - loss: 2.5288e-04     \n",
      "Epoch 65/200\n",
      "1257/1257 [==============================] - 0s - loss: 2.5513e-04     \n",
      "Epoch 66/200\n",
      "1257/1257 [==============================] - 0s - loss: 2.5288e-04     \n",
      "Epoch 67/200\n",
      "1257/1257 [==============================] - 0s - loss: 2.5222e-04     \n",
      "Epoch 68/200\n",
      "1257/1257 [==============================] - 0s - loss: 2.5366e-04     \n",
      "Epoch 69/200\n",
      "1257/1257 [==============================] - 0s - loss: 2.5569e-04     \n",
      "Epoch 70/200\n",
      "1257/1257 [==============================] - 0s - loss: 2.5231e-04     \n",
      "Epoch 71/200\n",
      "1257/1257 [==============================] - 0s - loss: 2.5207e-04     \n",
      "Epoch 72/200\n",
      "1257/1257 [==============================] - 0s - loss: 2.5214e-04     \n",
      "Epoch 73/200\n",
      "1257/1257 [==============================] - 0s - loss: 2.5311e-04     \n",
      "Epoch 74/200\n",
      "1257/1257 [==============================] - 0s - loss: 2.5249e-04     - ETA: 0s - loss: 2.4749e-\n",
      "Epoch 75/200\n",
      "1257/1257 [==============================] - 0s - loss: 2.5251e-04     \n",
      "Epoch 76/200\n",
      "1257/1257 [==============================] - 0s - loss: 2.5179e-04     \n",
      "Epoch 77/200\n",
      "1257/1257 [==============================] - 0s - loss: 2.5239e-04     \n",
      "Epoch 78/200\n",
      "1257/1257 [==============================] - 0s - loss: 2.5090e-04     \n",
      "Epoch 79/200\n",
      "1257/1257 [==============================] - 0s - loss: 2.5128e-04     \n",
      "Epoch 80/200\n",
      "1257/1257 [==============================] - 0s - loss: 2.5130e-04     \n",
      "Epoch 81/200\n",
      "1257/1257 [==============================] - 0s - loss: 2.5159e-04     \n",
      "Epoch 82/200\n",
      "1257/1257 [==============================] - 0s - loss: 2.5248e-04     \n",
      "Epoch 83/200\n",
      "1257/1257 [==============================] - 0s - loss: 2.5294e-04     \n",
      "Epoch 84/200\n",
      "1257/1257 [==============================] - 0s - loss: 2.5214e-04     \n",
      "Epoch 85/200\n",
      "1257/1257 [==============================] - 0s - loss: 2.5082e-04     \n",
      "Epoch 86/200\n",
      "1257/1257 [==============================] - 0s - loss: 2.5140e-04     \n",
      "Epoch 87/200\n",
      "1257/1257 [==============================] - 0s - loss: 2.5064e-04     \n",
      "Epoch 88/200\n",
      "1257/1257 [==============================] - 0s - loss: 2.5170e-04     \n",
      "Epoch 89/200\n",
      "1257/1257 [==============================] - 0s - loss: 2.5156e-04     \n",
      "Epoch 90/200\n",
      "1257/1257 [==============================] - 0s - loss: 2.4984e-04     \n",
      "Epoch 91/200\n",
      "1257/1257 [==============================] - 0s - loss: 2.5190e-04     \n",
      "Epoch 92/200\n",
      "1257/1257 [==============================] - 0s - loss: 2.5013e-04     \n",
      "Epoch 93/200\n",
      "1257/1257 [==============================] - 0s - loss: 2.5009e-04     \n",
      "Epoch 94/200\n",
      "1257/1257 [==============================] - 0s - loss: 2.5013e-04     \n",
      "Epoch 95/200\n",
      "1257/1257 [==============================] - 0s - loss: 2.5025e-04     \n",
      "Epoch 96/200\n"
     ]
    },
    {
     "name": "stdout",
     "output_type": "stream",
     "text": [
      "1257/1257 [==============================] - 0s - loss: 2.5095e-04     \n",
      "Epoch 97/200\n",
      "1257/1257 [==============================] - 0s - loss: 2.5255e-04     \n",
      "Epoch 98/200\n",
      "1257/1257 [==============================] - 0s - loss: 2.5136e-04     \n",
      "Epoch 99/200\n",
      "1257/1257 [==============================] - 0s - loss: 2.5116e-04     \n",
      "Epoch 100/200\n",
      "1257/1257 [==============================] - 0s - loss: 2.4933e-04     \n",
      "Epoch 101/200\n",
      "1257/1257 [==============================] - 0s - loss: 2.5012e-04     \n",
      "Epoch 102/200\n",
      "1257/1257 [==============================] - 0s - loss: 2.5041e-04     \n",
      "Epoch 103/200\n",
      "1257/1257 [==============================] - 0s - loss: 2.5014e-04     \n",
      "Epoch 104/200\n",
      "1257/1257 [==============================] - 0s - loss: 2.5078e-04     \n",
      "Epoch 105/200\n",
      "1257/1257 [==============================] - 0s - loss: 2.5112e-04     \n",
      "Epoch 106/200\n",
      "1257/1257 [==============================] - 0s - loss: 2.5340e-04     \n",
      "Epoch 107/200\n",
      "1257/1257 [==============================] - 0s - loss: 2.5088e-04     \n",
      "Epoch 108/200\n",
      "1257/1257 [==============================] - 0s - loss: 2.4917e-04     \n",
      "Epoch 109/200\n",
      "1257/1257 [==============================] - 0s - loss: 2.5041e-04     \n",
      "Epoch 110/200\n",
      "1257/1257 [==============================] - 0s - loss: 2.4972e-04     \n",
      "Epoch 111/200\n",
      "1257/1257 [==============================] - 0s - loss: 2.5021e-04     \n",
      "Epoch 112/200\n",
      "1257/1257 [==============================] - 0s - loss: 2.4951e-04     \n",
      "Epoch 113/200\n",
      "1257/1257 [==============================] - ETA: 0s - loss: 2.5934e-0 - 0s - loss: 2.5392e-04     \n",
      "Epoch 114/200\n",
      "1257/1257 [==============================] - 0s - loss: 2.4860e-04     \n",
      "Epoch 115/200\n",
      "1257/1257 [==============================] - 0s - loss: 2.4970e-04     \n",
      "Epoch 116/200\n",
      "1257/1257 [==============================] - 0s - loss: 2.5078e-04     \n",
      "Epoch 117/200\n",
      "1257/1257 [==============================] - 0s - loss: 2.4904e-04     \n",
      "Epoch 118/200\n",
      "1257/1257 [==============================] - 0s - loss: 2.4824e-04     \n",
      "Epoch 119/200\n",
      "1257/1257 [==============================] - 0s - loss: 2.4956e-04     \n",
      "Epoch 120/200\n",
      "1257/1257 [==============================] - 0s - loss: 2.5075e-04     \n",
      "Epoch 121/200\n",
      "1257/1257 [==============================] - 0s - loss: 2.5103e-04     \n",
      "Epoch 122/200\n",
      "1257/1257 [==============================] - 0s - loss: 2.4979e-04     \n",
      "Epoch 123/200\n",
      "1257/1257 [==============================] - 0s - loss: 2.5126e-04     \n",
      "Epoch 124/200\n",
      "1257/1257 [==============================] - 0s - loss: 2.5167e-04     \n",
      "Epoch 125/200\n",
      "1257/1257 [==============================] - 0s - loss: 2.4941e-04     \n",
      "Epoch 126/200\n",
      "1257/1257 [==============================] - 0s - loss: 2.4871e-04     \n",
      "Epoch 127/200\n",
      "1257/1257 [==============================] - 0s - loss: 2.4807e-04     \n",
      "Epoch 128/200\n",
      "1257/1257 [==============================] - 0s - loss: 2.4841e-04     \n",
      "Epoch 129/200\n",
      "1257/1257 [==============================] - 0s - loss: 2.5214e-04     \n",
      "Epoch 130/200\n",
      "1257/1257 [==============================] - 0s - loss: 2.4805e-04     \n",
      "Epoch 131/200\n",
      "1257/1257 [==============================] - 0s - loss: 2.4750e-04     \n",
      "Epoch 132/200\n",
      "1257/1257 [==============================] - 0s - loss: 2.4758e-04     \n",
      "Epoch 133/200\n",
      "1257/1257 [==============================] - 0s - loss: 2.5029e-04     \n",
      "Epoch 134/200\n",
      "1257/1257 [==============================] - 0s - loss: 2.4832e-04     \n",
      "Epoch 135/200\n",
      "1257/1257 [==============================] - 0s - loss: 2.4929e-04     \n",
      "Epoch 136/200\n",
      "1257/1257 [==============================] - 0s - loss: 2.4972e-04     \n",
      "Epoch 137/200\n",
      "1257/1257 [==============================] - 0s - loss: 2.4810e-04     \n",
      "Epoch 138/200\n",
      "1257/1257 [==============================] - 0s - loss: 2.4961e-04     \n",
      "Epoch 139/200\n",
      "1257/1257 [==============================] - 0s - loss: 2.4844e-04     \n",
      "Epoch 140/200\n",
      "1257/1257 [==============================] - 0s - loss: 2.4863e-04     \n",
      "Epoch 141/200\n",
      "1257/1257 [==============================] - 0s - loss: 2.4717e-04     \n",
      "Epoch 142/200\n",
      "1257/1257 [==============================] - 0s - loss: 2.4615e-04     \n",
      "Epoch 143/200\n",
      "1257/1257 [==============================] - 0s - loss: 2.5271e-04     \n",
      "Epoch 144/200\n",
      "1257/1257 [==============================] - 0s - loss: 2.4903e-04     \n",
      "Epoch 145/200\n",
      "1257/1257 [==============================] - 0s - loss: 2.4637e-04     \n",
      "Epoch 146/200\n",
      "1257/1257 [==============================] - 0s - loss: 2.4685e-04     \n",
      "Epoch 147/200\n",
      "1257/1257 [==============================] - 0s - loss: 2.4796e-04     \n",
      "Epoch 148/200\n",
      "1257/1257 [==============================] - 0s - loss: 2.4923e-04     \n",
      "Epoch 149/200\n",
      "1257/1257 [==============================] - 0s - loss: 2.5377e-04     \n",
      "Epoch 150/200\n",
      "1257/1257 [==============================] - 0s - loss: 2.4965e-04     \n",
      "Epoch 151/200\n",
      "1257/1257 [==============================] - 0s - loss: 2.5084e-04     \n",
      "Epoch 152/200\n",
      "1257/1257 [==============================] - 0s - loss: 2.4764e-04     \n",
      "Epoch 153/200\n",
      "1257/1257 [==============================] - 0s - loss: 2.4707e-04     \n",
      "Epoch 154/200\n",
      "1257/1257 [==============================] - 0s - loss: 2.4627e-04     \n",
      "Epoch 155/200\n",
      "1257/1257 [==============================] - 0s - loss: 2.4772e-04     \n",
      "Epoch 156/200\n",
      "1257/1257 [==============================] - 0s - loss: 2.4748e-04     \n",
      "Epoch 157/200\n",
      "1257/1257 [==============================] - 0s - loss: 2.4748e-04     \n",
      "Epoch 158/200\n",
      "1257/1257 [==============================] - 0s - loss: 2.5069e-04     \n",
      "Epoch 159/200\n",
      "1257/1257 [==============================] - 0s - loss: 2.5047e-04     \n",
      "Epoch 160/200\n",
      "1257/1257 [==============================] - 0s - loss: 2.4803e-04     \n",
      "Epoch 161/200\n",
      "1257/1257 [==============================] - 0s - loss: 2.4568e-04     \n",
      "Epoch 162/200\n",
      "1257/1257 [==============================] - 0s - loss: 2.4748e-04     \n",
      "Epoch 163/200\n",
      "1257/1257 [==============================] - 0s - loss: 2.4787e-04     \n",
      "Epoch 164/200\n",
      "1257/1257 [==============================] - 0s - loss: 2.4897e-04     \n",
      "Epoch 165/200\n",
      "1257/1257 [==============================] - 0s - loss: 2.4703e-04     \n",
      "Epoch 166/200\n",
      "1257/1257 [==============================] - 0s - loss: 2.4520e-04     \n",
      "Epoch 167/200\n",
      "1257/1257 [==============================] - 0s - loss: 2.4613e-04     \n",
      "Epoch 168/200\n",
      "1257/1257 [==============================] - 0s - loss: 2.4718e-04     \n",
      "Epoch 169/200\n",
      "1257/1257 [==============================] - 0s - loss: 2.4727e-04     \n",
      "Epoch 170/200\n",
      "1257/1257 [==============================] - 0s - loss: 2.4718e-04     \n",
      "Epoch 171/200\n",
      "1257/1257 [==============================] - 0s - loss: 2.4712e-04     \n",
      "Epoch 172/200\n",
      "1257/1257 [==============================] - 0s - loss: 2.4758e-04     \n",
      "Epoch 173/200\n",
      "1257/1257 [==============================] - 0s - loss: 2.4673e-04     \n",
      "Epoch 174/200\n",
      "1257/1257 [==============================] - 0s - loss: 2.4544e-04     \n",
      "Epoch 175/200\n",
      "1257/1257 [==============================] - 0s - loss: 2.4712e-04     \n",
      "Epoch 176/200\n",
      "1257/1257 [==============================] - 0s - loss: 2.4571e-04     \n",
      "Epoch 177/200\n",
      "1257/1257 [==============================] - 0s - loss: 2.4621e-04     \n",
      "Epoch 178/200\n",
      "1257/1257 [==============================] - 0s - loss: 2.4813e-04     \n",
      "Epoch 179/200\n",
      "1257/1257 [==============================] - 0s - loss: 2.4747e-04     \n",
      "Epoch 180/200\n",
      "1257/1257 [==============================] - 0s - loss: 2.4931e-04     \n",
      "Epoch 181/200\n",
      "1257/1257 [==============================] - 0s - loss: 2.4473e-04     \n",
      "Epoch 182/200\n",
      "1257/1257 [==============================] - 0s - loss: 2.4552e-04     \n",
      "Epoch 183/200\n",
      "1257/1257 [==============================] - 0s - loss: 2.4655e-04     \n",
      "Epoch 184/200\n",
      "1257/1257 [==============================] - 0s - loss: 2.4957e-04     \n",
      "Epoch 185/200\n",
      "1257/1257 [==============================] - 0s - loss: 2.5024e-04     \n",
      "Epoch 186/200\n",
      "1257/1257 [==============================] - 0s - loss: 2.4560e-04     \n",
      "Epoch 187/200\n",
      "1257/1257 [==============================] - 0s - loss: 2.4599e-04     \n",
      "Epoch 188/200\n",
      "1257/1257 [==============================] - 0s - loss: 2.4994e-04     \n",
      "Epoch 189/200\n",
      "1257/1257 [==============================] - 0s - loss: 2.4628e-04     \n",
      "Epoch 190/200\n",
      "1257/1257 [==============================] - 0s - loss: 2.4629e-04     \n",
      "Epoch 191/200\n"
     ]
    },
    {
     "name": "stdout",
     "output_type": "stream",
     "text": [
      "1257/1257 [==============================] - 0s - loss: 2.4582e-04     \n",
      "Epoch 192/200\n",
      "1257/1257 [==============================] - 0s - loss: 2.5149e-04     \n",
      "Epoch 193/200\n",
      "1257/1257 [==============================] - 0s - loss: 2.4639e-04     \n",
      "Epoch 194/200\n",
      "1257/1257 [==============================] - 0s - loss: 2.4487e-04     \n",
      "Epoch 195/200\n",
      "1257/1257 [==============================] - 0s - loss: 2.5755e-04     \n",
      "Epoch 196/200\n",
      "1257/1257 [==============================] - 0s - loss: 2.5022e-04     \n",
      "Epoch 197/200\n",
      "1257/1257 [==============================] - 0s - loss: 2.5015e-04     \n",
      "Epoch 198/200\n",
      "1257/1257 [==============================] - 0s - loss: 2.4896e-04     \n",
      "Epoch 199/200\n",
      "1257/1257 [==============================] - 0s - loss: 2.4515e-04     \n",
      "Epoch 200/200\n",
      "1257/1257 [==============================] - 0s - loss: 2.4568e-04     \n"
     ]
    },
    {
     "data": {
      "text/plain": [
       "<keras.callbacks.History at 0x1b652096f28>"
      ]
     },
     "execution_count": 19,
     "metadata": {},
     "output_type": "execute_result"
    }
   ],
   "source": [
    "#Fitting the RNN\n",
    "regressor.fit(X_train,y_train,batch_size=32,epochs=200)"
   ]
  },
  {
   "cell_type": "markdown",
   "metadata": {},
   "source": [
    "## Part 3 : Making predictions and visualizing"
   ]
  },
  {
   "cell_type": "code",
   "execution_count": 20,
   "metadata": {
    "collapsed": true
   },
   "outputs": [],
   "source": [
    "#Getting the test set\n",
    "test_set = pd.read_csv('Google_Stock_Price_Test.csv')\n",
    "real_stock_price = test_set.iloc[:,1:2].values"
   ]
  },
  {
   "cell_type": "code",
   "execution_count": 22,
   "metadata": {},
   "outputs": [],
   "source": [
    "#Scaling the inputs with the same scale\n",
    "inputs = real_stock_price\n",
    "inputs = sc.transform(inputs)"
   ]
  },
  {
   "cell_type": "code",
   "execution_count": 24,
   "metadata": {
    "collapsed": true
   },
   "outputs": [],
   "source": [
    "#Reshape according to the format accepted by the predict method\n",
    "inputs = np.reshape(inputs,(20,1,1))\n",
    "#Make the prediction\n",
    "predict_stock_price = regressor.predict(inputs)"
   ]
  },
  {
   "cell_type": "code",
   "execution_count": 25,
   "metadata": {
    "collapsed": true
   },
   "outputs": [],
   "source": [
    "#Get the unnormalized result\n",
    "predicted_stock_price = sc.inverse_transform(predict_stock_price)"
   ]
  },
  {
   "cell_type": "code",
   "execution_count": 27,
   "metadata": {},
   "outputs": [
    {
     "data": {
      "image/png": "[encoded data removed]",
      "text/plain": [
       "<matplotlib.figure.Figure at 0x1b65a22f208>"
      ]
     },
     "metadata": {},
     "output_type": "display_data"
    }
   ],
   "source": [
    "#Visualize the results\n",
    "plt.plot(real_stock_price[1:], color='red', label='Real Google Stock Price')\n",
    "plt.plot(predicted_stock_price, color='blue', label='Predicted Google Stock Price')\n",
    "plt.title('Google stock price Prediction')\n",
    "plt.xlabel('Time')\n",
    "plt.ylabel('Google Stock Price')\n",
    "plt.legend()\n",
    "plt.show()"
   ]
  },
  {
   "cell_type": "markdown",
   "metadata": {},
   "source": [
    "## Part 4 : Evaluate the results"
   ]
  },
  {
   "cell_type": "code",
   "execution_count": 35,
   "metadata": {},
   "outputs": [],
   "source": [
    "import math\n",
    "from sklearn.metrics import mean_squared_error\n",
    "rmse = math.sqrt(mean_squared_error(real_stock_price[1:],predicted_stock_price[0:19]))"
   ]
  },
  {
   "cell_type": "code",
   "execution_count": 37,
   "metadata": {},
   "outputs": [
    {
     "data": {
      "text/plain": [
       "0.015635661858590725"
      ]
     },
     "execution_count": 37,
     "metadata": {},
     "output_type": "execute_result"
    }
   ],
   "source": [
    "#To calculate MAPE\n",
    "rmse/800"
   ]
  },
  {
   "cell_type": "code",
   "execution_count": null,
   "metadata": {},
   "outputs": [],
   "source": []
  }
 ],
 "metadata": {
  "kernelspec": {
   "display_name": "Python [default]",
   "language": "python",
   "name": "python3"
  },
  "language_info": {
   "codemirror_mode": {
    "name": "ipython",
    "version": 3
   },
   "file_extension": ".py",
   "mimetype": "text/x-python",
   "name": "python",
   "nbconvert_exporter": "python",
   "pygments_lexer": "ipython3",
   "version": "3.5.3"
  }
 },
 "nbformat": 4,
 "nbformat_minor": 2
}
